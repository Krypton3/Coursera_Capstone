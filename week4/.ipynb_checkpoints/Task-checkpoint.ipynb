{
 "cells": [
  {
   "cell_type": "markdown",
   "metadata": {},
   "source": [
    "# Introduction and Buisness Problem"
   ]
  },
  {
   "cell_type": "markdown",
   "metadata": {},
   "source": [
    "In this assignment, I will be working on a buisness related problem and try to find a solution. Let's think that an entrepreneur wants to start a restaurant buisness in toronto. I am selecting toronto because I am living in Canada currently. As a international student and a asian person, I always try to find a restaurant that produces the food like in my region. Now, lets say that the entrepreneur also from asia and he/she wants me to find him a suitable location in toronto to start his business which is to open a restaurant. My task is to find him/her best suitable location to place the restaurant. I will be using the data science knowledge that I have acquired so far from the Applied data science capstone course such as clustering machine learning technique."
   ]
  },
  {
   "cell_type": "markdown",
   "metadata": {},
   "source": [
    "# Target Audience"
   ]
  },
  {
   "cell_type": "markdown",
   "metadata": {},
   "source": [
    "The target audience would be asian people for the entrepreneur and find a suitable location in toronto to maximize the buisness profit. "
   ]
  },
  {
   "cell_type": "markdown",
   "metadata": {},
   "source": [
    "# Data"
   ]
  },
  {
   "cell_type": "markdown",
   "metadata": {},
   "source": [
    "I will be using toronto data that inlcudes list of neighborhoods and the coordinates of those neighborhoods. And the venues that are related to asian restaurants. To gather the data, I will use wikipedia to scrap the toronto neighborhoods. Geocoder package to get the co-ordinates and Foursquare API to get the venues. "
   ]
  },
  {
   "cell_type": "code",
   "execution_count": null,
   "metadata": {},
   "outputs": [],
   "source": []
  }
 ],
 "metadata": {
  "kernelspec": {
   "display_name": "Python 3",
   "language": "python",
   "name": "python3"
  },
  "language_info": {
   "codemirror_mode": {
    "name": "ipython",
    "version": 3
   },
   "file_extension": ".py",
   "mimetype": "text/x-python",
   "name": "python",
   "nbconvert_exporter": "python",
   "pygments_lexer": "ipython3",
   "version": "3.7.3"
  }
 },
 "nbformat": 4,
 "nbformat_minor": 2
}
